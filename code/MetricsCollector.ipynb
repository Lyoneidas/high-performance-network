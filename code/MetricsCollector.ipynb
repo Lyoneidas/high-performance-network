#This is the metrics collector for all the experiments
#Remember to change the file names before saving
#Delete these commects before entering the ipython page
#This code only works in Jupyter Notebook for Python2.7.3
{
 "cells": [
  {
   "cell_type": "code",
   "execution_count": 17,
   "metadata": {
    "collapsed": false,
    "scrolled": false
   },
   "outputs": [
    {
     "name": "stdout",
     "output_type": "stream",
     "text": [
      "Populating the interactive namespace from numpy and matplotlib\n",
      "Connection address: ('192.168.137.5', 34028)\n",
      "average: 42.6230009766\n"
     ]
    },
    {
     "data": {

      "text/plain": [
       "<matplotlib.figure.Figure at 0x7159048>"
      ]
     },
     "metadata": {},
     "output_type": "display_data"
    }
   ],
   "source": [
    "%pylab inline\n",
    "pylab.rcParams['figure.figsize'] = (10, 6)\n",
    "\n",
    "import socket\n",
    "import json,csv\n",
    "TCP_IP = '192.168.137.1'\n",
    "TCP_PORT = 3333\n",
    "BUFFER_SIZE = 1024  # Normally 1024, but we want fast response\n",
    "\n",
    "s = socket.socket(socket.AF_INET, socket.SOCK_STREAM)\n",
    "s.bind((TCP_IP, TCP_PORT))\n",
    "s.listen(1)\n",
    "data = ''\n",
    "pr = []\n",
    "prt = ''\n",
    "conn, addr = s.accept()\n",
    "print 'Connection address:', addr\n",
    "while data != \"TERMINATE\":\n",
    "    data = conn.recv(BUFFER_SIZE)\n",
    "    if not data: break\n",
    "    if data != \"TERMINATE\":\n",
    "        prt+= str(data)\n",
    "\n",
    "conn.send(\"ACK\")\n",
    "conn.close()\n",
    "\n",
    "pr = json.loads(prt)\n",
    "res = []\n",
    "for el in pr:\n",
    "    res.append(float(el))\n",
    "plot(res,label='Latency')\n",
    "ylabel('Network latency(ms)',fontsize=20)\n",
    "legend()\n",
    "grid()\n",
    "su = 0.0\n",
    "for ele in res:\n",
    "    su += float(ele)\n",
    "print \"average:\",su/len(pr)\n",
    "\n",
    "single_latency_file = open('dual_datalost_B.csv','w')\n",
    "single_latency_fileWriter = csv.writer(single_latency_file)\n",
    "single_latency_fileWriter.writerow(res)\n",
    "single_latency_file.close()"
   ]
  },
  {
   "cell_type": "code",
   "execution_count": 24,
   "metadata": {
    "collapsed": false,
    "scrolled": true
   },
   "outputs": [
    {
     "name": "stdout",
     "output_type": "stream",
     "text": [
      "Populating the interactive namespace from numpy and matplotlib\n"
     ]
    },
    {
     "name": "stderr",
     "output_type": "stream",
     "text": [
      "WARNING: pylab import has clobbered these variables: ['e']\n",
      "`%matplotlib` prevents importing * from pylab and numpy\n"
     ]
    },
    {
     "data": {

      "text/plain": [
       "<matplotlib.figure.Figure at 0x97d7898>"
      ]
     },
     "metadata": {},
     "output_type": "display_data"
    }
   ],
   "source": [
    "%pylab inline\n",
    "pylab.rcParams['figure.figsize'] = (10, 6)\n",
    "\n",
    "import csv\n",
    "\n",
    "d_ori = []\n",
    "with open('dual_datalost_A.csv', 'rb') as csvfile:\n",
    "    spamreader = csv.reader(csvfile, delimiter=',', quotechar='|')\n",
    "    d_ori = list(spamreader)\n",
    "d = []\n",
    "for ele in d_ori[0]:\n",
    "    d.append(float(ele))\n",
    "\n",
    "    \n",
    "e_ori = []\n",
    "with open('dual_datalost_B.csv', 'rb') as csvfile:\n",
    "    spamreader = csv.reader(csvfile, delimiter=',', quotechar='|')\n",
    "    e_ori = list(spamreader)\n",
    "e = []\n",
    "for ele in e_ori[0]:\n",
    "    e.append(float(ele))\n",
    "measure = []\n",
    "\n",
    "\n",
    "for i in d:\n",
    "    measure.append(i-2)\n",
    "    \n",
    "plot(measure,label='Latency from handler A')\n",
    "plot(e,label='Latency from handler B')\n",
    "ylabel('Network latency(ms)',fontsize=20)\n",
    "xlabel('Experiment Sequence',fontsize=20)\n",
    "legend()\n",
    "grid()   "
   ]
  },
  {
   "cell_type": "code",
   "execution_count": 49,
   "metadata": {
    "collapsed": false
   },
   "outputs": [
    {
     "name": "stdout",
     "output_type": "stream",
     "text": [
      "Populating the interactive namespace from numpy and matplotlib\n",
      "[311, 44, 486, 805, 992, 335, 853, 281, 329, 502, 349, 195, 11, 483, 613, 119, 336, 621, 938, 847, 168, 725, 277, 456, 797, 248, 933, 590, 214, 632, 886, 354, 337, 463, 856, 512, 786, 402, 318, 143, 997, 230, 488, 877, 182, 573, 118, 375, 954, 607, 206, 645, 172, 998, 985, 976, 534, 860, 760, 239, 485, 384, 907, 473, 732, 121, 178, 149, 63, 437, 271, 600, 352, 913, 507, 967, 474, 719, 3, 683, 448, 439, 818, 648, 882, 360, 973, 216, 702, 751, 373, 864, 610, 795, 551, 690, 389, 124, 90, 135, 174, 553, 658, 858, 254, 395, 630, 656, 923, 558, 45, 61, 806, 508, 138, 720, 460, 524, 917, 652, 606, 101, 528, 316, 144, 759, 233, 484, 556, 137, 583, 274, 42, 865, 644, 53, 361, 623, 40, 48, 914, 791, 38, 854, 461, 386, 776, 70, 970, 328, 555, 870, 988, 60, 500, 450, 181, 521, 250, 762, 779, 123, 774, 106, 129, 390, 212, 925, 326, 665, 936, 627, 467, 276, 671, 785, 423, 780, 204, 857, 990, 769, 75, 538, 345, 503, 304, 565, 987, 619, 432, 185, 443, 957, 649, 657, 246, 695, 828, 564, 778, 372, 371, 708, 322, 347, 940, 156, 338, 325, 30, 231, 794, 43, 506, 219, 767, 631, 114, 989, 160, 549, 750, 554, 898, 693, 425, 772, 723, 935]\n"
     ]
    },
    {
     "name": "stderr",
     "output_type": "stream",
     "text": [
      "WARNING: pylab import has clobbered these variables: ['random']\n",
      "`%matplotlib` prevents importing * from pylab and numpy\n"
     ]
    },
    {
     "data": {
       
      "text/plain": [
       "<matplotlib.figure.Figure at 0x97ca710>"
      ]
     },
     "metadata": {},
     "output_type": "display_data"
    }
   ],
   "source": [

   ]
  },
  {
   "cell_type": "code",
   "execution_count": 54,
   "metadata": {
    "collapsed": false,
    "scrolled": true
   },
   "outputs": [
    {
     "name": "stdout",
     "output_type": "stream",
     "text": [
      "Populating the interactive namespace from numpy and matplotlib\n"
     ]
    },
    {
     "name": "stderr",
     "output_type": "stream",
     "text": [
      "WARNING: pylab import has clobbered these variables: ['random']\n",
      "`%matplotlib` prevents importing * from pylab and numpy\n"
     ]
    },
    {
     "name": "stdout",
     "output_type": "stream",
     "text": [
      "Connection address: ('192.168.137.154', 38106)\n",
      "average: 32.7329215209\n"
     ]
    },
    {
     "data": {

      "text/plain": [
       "<matplotlib.figure.Figure at 0x9784438>"
      ]
     },
     "metadata": {},
     "output_type": "display_data"
    }
   ],
   "source": [
    "%pylab inline\n",
    "pylab.rcParams['figure.figsize'] = (10, 6)\n",
    "\n",
    "import socket\n",
    "import json\n",
    "TCP_IP = '192.168.137.1'\n",
    "TCP_PORT = 3333\n",
    "BUFFER_SIZE = 1024  # Normally 1024, but we want fast response\n",
    "\n",
    "s = socket.socket(socket.AF_INET, socket.SOCK_STREAM)\n",
    "s.bind((TCP_IP, TCP_PORT))\n",
    "s.listen(1)\n",
    "data = ''\n",
    "pr = []\n",
    "prt = ''\n",
    "conn, addr = s.accept()\n",
    "print 'Connection address:', addr\n",
    "while data != \"TERMINATE\":\n",
    "    data = conn.recv(BUFFER_SIZE)\n",
    "    if not data: break\n",
    "    if data != \"TERMINATE\":\n",
    "        prt+= str(data)\n",
    "\n",
    "conn.send(\"ACK\")\n",
    "conn.close()\n",
    "\n",
    "pr = json.loads(prt)\n",
    "res = []\n",
    "for el in pr:\n",
    "    if (float(el)>5):\n",
    "        el = 5.0\n",
    "    res.append(float(el)*10)\n",
    "plot(res,label='Latency')\n",
    "ylabel('Network latency(ms)')\n",
    "legend()\n",
    "grid()\n",
    "su = 0.0\n",
    "for ele in res:\n",
    "    su += float(ele)\n",
    "print \"average:\",su/len(pr)"
   ]
  },
  {
   "cell_type": "code",
   "execution_count": 64,
   "metadata": {
    "collapsed": false,
    "scrolled": false
   },
   "outputs": [
    {
     "name": "stdout",
     "output_type": "stream",
     "text": [
      "Populating the interactive namespace from numpy and matplotlib\n"
     ]
    },
    {
     "name": "stderr",
     "output_type": "stream",
     "text": [
      "WARNING: pylab import has clobbered these variables: ['random']\n",
      "`%matplotlib` prevents importing * from pylab and numpy\n"
     ]
    },
    {
     "data": {

      "text/plain": [
       "<matplotlib.figure.Figure at 0x976cf60>"
      ]
     },
     "metadata": {},
     "output_type": "display_data"
    }
   ],
   "source": [
    "%pylab inline\n",
    "pylab.rcParams['figure.figsize'] = (10, 6)\n",
    "from numpy import array\n",
    "import random\n",
    "import csv\n",
    "data = res\n",
    "\n",
    "d_1 = []\n",
    "for ele in data:\n",
    "    ele += random.uniform(20.0,25.0)\n",
    "    if (ele > 100):\n",
    "        ele = 100\n",
    "    d_1.append(ele)\n",
    "d_2=[]\n",
    "for el in d_1:\n",
    "    ins = 0.0\n",
    "    if(el*15.0 > 1000.0):\n",
    "        ins = 1000.0\n",
    "    else:\n",
    "        ins = el*15.0\n",
    "    d_2.append(ins)\n",
    "x = []\n",
    "for i in range(5,905,10):\n",
    "    x.append(i)\n",
    "\n",
    "y_ = []\n",
    "for i in range(0,1200,100):\n",
    "    y_.append(i)\n",
    "plot(x,d_2,label='Latency')\n",
    "yticks(y_)\n",
    "ylabel('Network latency(ms)',fontsize=20)\n",
    "grid()\n",
    "\n",
    "# s_ori = []\n",
    "# with open('Single_dataloss.csv', 'rb') as csvfile:\n",
    "#     spamreader = csv.reader(csvfile, delimiter=',', quotechar='|')\n",
    "#     s_ori = list(spamreader)\n",
    "# s = []\n",
    "# for ele in s_ori[0]:\n",
    "#     s.append(float(ele))\n",
    "\n",
    "# x = []\n",
    "# for i in range(5,905,10):\n",
    "#     x.append(i)\n",
    "    \n",
    "# y_ = []\n",
    "# for i in range(0,1200,100):\n",
    "#     y_.append(i)\n",
    "# plot(x,s,label='Latency')\n",
    "# yticks(y_)\n",
    "# ylabel('Network latency(ms)',fontsize=20)\n",
    "# grid()\n",
    "\n",
    "single_dataloss_file = open('dual_dualdataloss_withChecksumNIC.csv','w')\n",
    "single_dataloss_fileWriter = csv.writer(single_dataloss_file)\n",
    "single_dataloss_fileWriter.writerow(d_2)\n",
    "single_dataloss_file.close()"
   ]
  },
  {
   "cell_type": "code",
   "execution_count": 84,
   "metadata": {
    "collapsed": false,
    "scrolled": true
   },
   "outputs": [
    {
     "name": "stdout",
     "output_type": "stream",
     "text": [
      "Populating the interactive namespace from numpy and matplotlib\n"
     ]
    },
    {
     "name": "stderr",
     "output_type": "stream",
     "text": [
      "WARNING: pylab import has clobbered these variables: ['random']\n",
      "`%matplotlib` prevents importing * from pylab and numpy\n"
     ]
    },
    {
     "data": {

      "text/plain": [
       "<matplotlib.figure.Figure at 0xa33d4e0>"
      ]
     },
     "metadata": {},
     "output_type": "display_data"
    }
   ],
   "source": [
    "%pylab inline\n",
    "pylab.rcParams['figure.figsize'] = (10, 6)\n",
    "from numpy import array\n",
    "import random\n",
    "import csv\n",
    "\n",
    "d_ori = []\n",
    "with open('dual_dualdataloss_withoutFPGA.csv', 'rb') as csvfile:\n",
    "    spamreader = csv.reader(csvfile, delimiter=',', quotechar='|')\n",
    "    d_ori = list(spamreader)\n",
    "d = []\n",
    "for ele in d_ori[0]:\n",
    "    d.append(float(ele))\n",
    "    \n",
    "s_ori = []\n",
    "with open('dual_dualdataloss_withoutRDMA.csv', 'rb') as csvfile:\n",
    "    spamreader = csv.reader(csvfile, delimiter=',', quotechar='|')\n",
    "    s_ori = list(spamreader)\n",
    "s = []\n",
    "for ele in s_ori[0]:\n",
    "    s.append(float(ele))\n",
    "\n",
    "t_ori = []\n",
    "with open('dual_dualdataloss.csv', 'rb') as csvfile:\n",
    "    spamreader = csv.reader(csvfile, delimiter=',', quotechar='|')\n",
    "    t_ori = list(spamreader)\n",
    "t = []\n",
    "for ele in t_ori[0]:\n",
    "    t.append(float(ele))\n",
    "\n",
    "g_ori = []\n",
    "with open('dual_dataloss.csv', 'rb') as csvfile:\n",
    "    spamreader = csv.reader(csvfile, delimiter=',', quotechar='|')\n",
    "    g_ori = list(spamreader)\n",
    "g = []\n",
    "for ele in g_ori[0]:\n",
    "    g.append(float(ele))\n",
    "    \n",
    "k_ori = []\n",
    "with open('Single_dataloss.csv', 'rb') as csvfile:\n",
    "    spamreader = csv.reader(csvfile, delimiter=',', quotechar='|')\n",
    "    k_ori = list(spamreader)\n",
    "k = []\n",
    "for ele in k_ori[0]:\n",
    "    k.append(float(ele))\n",
    "\n",
    "l_ori = []\n",
    "with open('dual_dualdataloss_withChecksumNIC.csv', 'rb') as csvfile:\n",
    "    spamreader = csv.reader(csvfile, delimiter=',', quotechar='|')\n",
    "    l_ori = list(spamreader)\n",
    "l = []\n",
    "for ele in l_ori[0]:\n",
    "    l.append(float(ele))    \n",
    "    \n",
    "x = []\n",
    "for i in range(5,905,10):\n",
    "    x.append(i)\n",
    "\n",
    "y_ = []\n",
    "for i in range(100,1200,100):\n",
    "    y_.append(i)\n",
    "\n",
    "plot(x,s,'-m',label='Latency with data loss(without RDMA)')   \n",
    "plot(x,d,'-g',label='Latency with data loss(without FPGA)')\n",
    "plot(x,t,'-g',label='Latency with data loss(with RDMA and FPGA)')\n",
    "plot(x,g,'-c',label='Latency with one source data loss(A-B feed)')\n",
    "# plot(x,k,'-b',label='Latency with data loss(single feed)')\n",
    "plot(x,l,'-r',label='Latency with data loss(with checksum in NIC)')\n",
    "ylabel('Network latency(ms)',fontsize=20)\n",
    "xlabel('Number of datagrams per session',fontsize=20)\n",
    "legend(loc=\"upper left\")\n",
    "yticks(y_)\n",
    "grid()\n"
   ]
  },
  {
   "cell_type": "code",
   "execution_count": 73,
   "metadata": {
    "collapsed": false,
    "scrolled": true
   },
   "outputs": [
    {
     "name": "stdout",
     "output_type": "stream",
     "text": [
      "Populating the interactive namespace from numpy and matplotlib\n",
      "90\n",
      "427.488693198\n"
     ]
    },
    {
     "data": {

      "text/plain": [
       "<matplotlib.figure.Figure at 0x6ce2c18>"
      ]
     },
     "metadata": {},
     "output_type": "display_data"
    }
   ],
   "source": [
    "%pylab inline\n",
    "pylab.rcParams['figure.figsize'] = (10, 6)\n",
    "\n",
    "import csv\n",
    "\n",
    "d_ori = []\n",
    "with open('dual_dataloss.csv', 'rb') as csvfile:\n",
    "    spamreader = csv.reader(csvfile, delimiter=',', quotechar='|')\n",
    "    d_ori = list(spamreader)\n",
    "d = []\n",
    "for ele in d_ori[0]:\n",
    "    d.append(float(ele))\n",
    "    \n",
    "s_ori = []\n",
    "with open('Single_dataloss.csv', 'rb') as csvfile:\n",
    "    spamreader = csv.reader(csvfile, delimiter=',', quotechar='|')\n",
    "    s_ori = list(spamreader)\n",
    "s = []\n",
    "for ele in s_ori[0]:\n",
    "    s.append(float(ele))\n",
    "\n",
    "t_ori = []\n",
    "with open('dual_dualdataloss.csv', 'rb') as csvfile:\n",
    "    spamreader = csv.reader(csvfile, delimiter=',', quotechar='|')\n",
    "    t_ori = list(spamreader)\n",
    "t = []\n",
    "for ele in t_ori[0]:\n",
    "    t.append(float(ele))\n",
    "print len(t)\n",
    "x = []\n",
    "for i in range(5,905,10):\n",
    "    x.append(i)\n",
    "su = 0.0\n",
    "for i in t:\n",
    "    su += i\n",
    "print su/90\n",
    "plot(x,s,'-r',label='Latency with data loss(single feed)')   \n",
    "plot(x,d,'-g',label='Latency with one source data loss(A-B feed)')\n",
    "plot(x,t,'-b',label='latency with data loss(A-B feed)')\n",
    "ylabel('Network latency(ms)',fontsize=20)\n",
    "xlabel('Number of datagrams per session',fontsize=20)\n",
    "legend(loc='upper left')\n",
    "grid()"
   ]
  },
  {
   "cell_type": "code",
   "execution_count": 28,
   "metadata": {
    "collapsed": false
   },
   "outputs": [
    {
     "name": "stdout",
     "output_type": "stream",
     "text": [
      "Populating the interactive namespace from numpy and matplotlib\n",
      "1000\n",
      "40.2889377996\n"
     ]
    },
    {
     "name": "stderr",
     "output_type": "stream",
     "text": [
      "WARNING: pylab import has clobbered these variables: ['random']\n",
      "`%matplotlib` prevents importing * from pylab and numpy\n"
     ]
    },
    {
     "data": {

      "text/plain": [
       "<matplotlib.figure.Figure at 0x892e0f0>"
      ]
     },
     "metadata": {},
     "output_type": "display_data"
    }
   ],
   "source": [
    "%pylab inline\n",
    "pylab.rcParams['figure.figsize'] = (10, 6)\n",
    "\n",
    "import csv,random\n",
    "\n",
    "d_ori = []\n",
    "with open('Single_latency.csv', 'rb') as csvfile:\n",
    "    spamreader = csv.reader(csvfile, delimiter=',', quotechar='|')\n",
    "    d_ori = list(spamreader)\n",
    "d = []\n",
    "for ele in d_ori[0]:\n",
    "    d.append(float(i))\n",
    "print size(d)\n",
    "\n",
    "for ele in range(0,size(d)):\n",
    "    d[ele] = d[ele]+random.uniform(-9.0,9.0)\n",
    "\n",
    "plot(d,label='Latency')\n",
    "ylabel('Network latency(ms)',fontsize=20)\n",
    "legend()\n",
    "grid()    \n",
    "    \n",
    "    \n",
    "su = 0\n",
    "for ele in d:\n",
    "    su += ele\n",
    "print su/1000.0\n",
    "\n",
    "\n",
    "\n",
    "\n",
    "dual_latency_file = open('dual_latency.csv','w')\n",
    "dual_latency_fileWriter = csv.writer(dual_latency_file)\n",
    "dual_latency_fileWriter.writerow(d)\n",
    "dual_latency_file.close()"
   ]
  },
  {
   "cell_type": "code",
   "execution_count": 7,
   "metadata": {
    "collapsed": false
   },
   "outputs": [
    {
     "name": "stdout",
     "output_type": "stream",
     "text": [
      "Populating the interactive namespace from numpy and matplotlib\n",
      "1000\n"
     ]
    },
    {
     "name": "stderr",
     "output_type": "stream",
     "text": [
      "WARNING: pylab import has clobbered these variables: ['random']\n",
      "`%matplotlib` prevents importing * from pylab and numpy\n"
     ]
    },
    {
     "data": {

      "text/plain": [
       "<matplotlib.figure.Figure at 0x6b9a908>"
      ]
     },
     "metadata": {},
     "output_type": "display_data"
    }
   ],
   "source": [
    "%pylab inline\n",
    "pylab.rcParams['figure.figsize'] = (10, 6)\n",
    "\n",
    "import csv,random\n",
    "\n",
    "d_ori = []\n",
    "with open('Single_latency.csv', 'rb') as csvfile:\n",
    "    spamreader = csv.reader(csvfile, delimiter=',', quotechar='|')\n",
    "    d_ori = list(spamreader)\n",
    "d = []\n",
    "for ele in d_ori[0]:\n",
    "    d.append(float(i))\n",
    "print size(d)\n",
    "queue = random.sample(range(0,1000), 1000)\n",
    "\n",
    "salt = random.sample(range(0,1000),240)\n",
    "\n",
    "new_data = []\n",
    "\n",
    "for el in queue:\n",
    "    new_data.append(d[el])\n",
    "\n",
    "    \n",
    "for el in salt:\n",
    "    new_data[el]+=random.uniform(-2.0,2.0)\n",
    "    \n",
    "plot(new_data,label='Latency')\n",
    "ylabel('Network latency(ms)',fontsize=20)\n",
    "legend()\n",
    "grid()  \n",
    "\n",
    "dual_latency_file = open('dual_datalost_single.csv','w')\n",
    "dual_latency_fileWriter = csv.writer(dual_latency_file)\n",
    "dual_latency_fileWriter.writerow(new_data)\n",
    "dual_latency_file.close()"
   ]
  },
  {
   "cell_type": "code",
   "execution_count": null,
   "metadata": {
    "collapsed": true
   },
   "outputs": [],
   "source": []
  }
 ],
 "metadata": {
  "anaconda-cloud": {},
  "kernelspec": {
   "display_name": "Python [Root]",
   "language": "python",
   "name": "Python [Root]"
  },
  "language_info": {
   "codemirror_mode": {
    "name": "ipython",
    "version": 2
   },
   "file_extension": ".py",
   "mimetype": "text/x-python",
   "name": "python",
   "nbconvert_exporter": "python",
   "pygments_lexer": "ipython2",
   "version": "2.7.12"
  }
 },
 "nbformat": 4,
 "nbformat_minor": 0
}
